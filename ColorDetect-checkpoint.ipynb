{
 "cells": [
  {
   "cell_type": "markdown",
   "metadata": {
    "id": "MZNsAidCf5Nr"
   },
   "source": [
    "# **Color-Identification in Images*\n",
    "\n",
    "I will use OpenCV2 for image manipulation, apply KMeans to identify the major colors and then plot the information using Matplotlib.\n",
    "\n"
   ]
  },
  {
   "cell_type": "markdown",
   "metadata": {
    "id": "mDFVmtMsfgsI"
   },
   "source": [
    "# **Import Libraries**\n"
   ]
  },
  {
   "cell_type": "markdown",
   "metadata": {
    "id": "htN8rdSIfsSq"
   },
   "source": [
    "Let's first import necessary libraries. We need sklearn for KMeans algorithm, matplotlib.pyplot for plotting graphs, numpy to work with arrays, cv2 to work with image data, collections to use Counter to count values, rgb2lab to convert RGB values and deltaE_cie76 to calculate similarity between colors.\n",
    "\n"
   ]
  },
  {
   "cell_type": "code",
   "execution_count": 1,
   "metadata": {
    "id": "gCBGRImOWDE0"
   },
   "outputs": [
    {
     "ename": "ModuleNotFoundError",
     "evalue": "No module named 'cv2'",
     "output_type": "error",
     "traceback": [
      "\u001b[1;31m---------------------------------------------------------------------------\u001b[0m",
      "\u001b[1;31mModuleNotFoundError\u001b[0m                       Traceback (most recent call last)",
      "\u001b[1;32m<ipython-input-1-98e835fde31d>\u001b[0m in \u001b[0;36m<module>\u001b[1;34m\u001b[0m\n\u001b[0;32m      2\u001b[0m \u001b[1;32mimport\u001b[0m \u001b[0mmatplotlib\u001b[0m\u001b[1;33m.\u001b[0m\u001b[0mpyplot\u001b[0m \u001b[1;32mas\u001b[0m \u001b[0mplt\u001b[0m\u001b[1;33m\u001b[0m\u001b[1;33m\u001b[0m\u001b[0m\n\u001b[0;32m      3\u001b[0m \u001b[1;32mimport\u001b[0m \u001b[0mnumpy\u001b[0m \u001b[1;32mas\u001b[0m \u001b[0mnp\u001b[0m\u001b[1;33m\u001b[0m\u001b[1;33m\u001b[0m\u001b[0m\n\u001b[1;32m----> 4\u001b[1;33m \u001b[1;32mimport\u001b[0m \u001b[0mcv2\u001b[0m\u001b[1;33m\u001b[0m\u001b[1;33m\u001b[0m\u001b[0m\n\u001b[0m\u001b[0;32m      5\u001b[0m \u001b[1;32mfrom\u001b[0m \u001b[0mcollections\u001b[0m \u001b[1;32mimport\u001b[0m \u001b[0mCounter\u001b[0m\u001b[1;33m\u001b[0m\u001b[1;33m\u001b[0m\u001b[0m\n\u001b[0;32m      6\u001b[0m \u001b[1;32mfrom\u001b[0m \u001b[0mskimage\u001b[0m\u001b[1;33m.\u001b[0m\u001b[0mcolor\u001b[0m \u001b[1;32mimport\u001b[0m \u001b[0mrgb2lab\u001b[0m\u001b[1;33m,\u001b[0m \u001b[0mdeltaE_cie76\u001b[0m\u001b[1;33m\u001b[0m\u001b[1;33m\u001b[0m\u001b[0m\n",
      "\u001b[1;31mModuleNotFoundError\u001b[0m: No module named 'cv2'"
     ]
    }
   ],
   "source": [
    "from sklearn.cluster import KMeans\n",
    "import matplotlib.pyplot as plt\n",
    "import numpy as np\n",
    "import cv2\n",
    "from collections import Counter\n",
    "from skimage.color import rgb2lab, deltaE_cie76\n",
    "import os\n",
    "\n",
    "%matplotlib inline"
   ]
  },
  {
   "cell_type": "markdown",
   "metadata": {
    "id": "dH3sQs0jgM-y"
   },
   "source": [
    "## **Working with OpenCV**\n",
    "Let's first read a sample image and understand basic operations that we can do on it."
   ]
  },
  {
   "cell_type": "code",
   "execution_count": null,
   "metadata": {
    "colab": {
     "base_uri": "https://localhost:8080/",
     "height": 294
    },
    "id": "dAWOVDQoWO2x",
    "outputId": "9fadaaca-a00b-44cc-d088-ab66091e637a"
   },
   "outputs": [],
   "source": [
    "imgName = 'sample-image.jpg'\n",
    "image = cv2.imread(imgName)\n",
    "print(\"The type of this input is {}\".format(type(image)))\n",
    "print(\"Shape: {}\".format(image.shape))\n",
    "plt.imshow(image)"
   ]
  },
  {
   "cell_type": "markdown",
   "metadata": {
    "id": "I6Zn7CingjMz"
   },
   "source": [
    "\n",
    "We see that the image has different colors as compared to the original image. This is because by default OpenCV reads the images in the color order BLUE GREEN RED i.e. BGR. Thus, we need to convert it into REG GREEN BLUE i.e. RGB."
   ]
  },
  {
   "cell_type": "code",
   "execution_count": null,
   "metadata": {
    "colab": {
     "base_uri": "https://localhost:8080/",
     "height": 258
    },
    "id": "m_CvpzJ4gXJX",
    "outputId": "7233debd-65e9-47da-e25b-8627dcefc74f"
   },
   "outputs": [],
   "source": [
    "image = cv2.cvtColor(image, cv2.COLOR_BGR2RGB)\n",
    "plt.imshow(image)"
   ]
  },
  {
   "cell_type": "markdown",
   "metadata": {
    "id": "ZeQtz2wSgtUr"
   },
   "source": [
    "We might want to resize the image to a certain size whenever the images are huge or when we are working with multiple images of different dimensions.\n",
    "\n"
   ]
  },
  {
   "cell_type": "code",
   "execution_count": null,
   "metadata": {
    "colab": {
     "base_uri": "https://localhost:8080/",
     "height": 237
    },
    "id": "6Aa_ZWC1gtNC",
    "outputId": "fe36369d-27d9-454c-e1dd-d891c0f53891"
   },
   "outputs": [],
   "source": [
    "resized_image = cv2.resize(image, (1200, 600))\n",
    "plt.imshow(resized_image)"
   ]
  },
  {
   "cell_type": "markdown",
   "metadata": {
    "id": "apUKp3S8g07N"
   },
   "source": [
    "## **Color Identification**\n",
    "\n",
    "First, we will define a function that can give us the hex values of our the colors that we will identify."
   ]
  },
  {
   "cell_type": "code",
   "execution_count": null,
   "metadata": {
    "id": "qNYrmQvKgm8H"
   },
   "outputs": [],
   "source": [
    "def RGB2HEX(color):\n",
    "    return \"#{:02x}{:02x}{:02x}\".format(int(color[0]), int(color[1]), int(color[2]))"
   ]
  },
  {
   "cell_type": "markdown",
   "metadata": {
    "id": "wavNSvYDhCdu"
   },
   "source": [
    "KMeans expects flattened array as input during its fit method. Thus, we need to reshape the image using numpy. Then, we can apply KMeans to first fit and then predict on the image to get the results. Then, the cluster colors are identified an arranged in the correct order. We plot the colors as a pie chart."
   ]
  },
  {
   "cell_type": "code",
   "execution_count": null,
   "metadata": {
    "id": "T-6WPnDvg93t"
   },
   "outputs": [],
   "source": [
    "def get_image(image_path):\n",
    "    image = cv2.imread(image_path)\n",
    "    image = cv2.cvtColor(image, cv2.COLOR_BGR2RGB)\n",
    "    return image"
   ]
  },
  {
   "cell_type": "code",
   "execution_count": null,
   "metadata": {
    "id": "-kgpmz4ThFP-"
   },
   "outputs": [],
   "source": [
    "def get_colors(image, number_of_colors, show_chart):\n",
    "    \n",
    "    modified_image = cv2.resize(image, (600, 400), interpolation = cv2.INTER_AREA)\n",
    "    modified_image = modified_image.reshape(modified_image.shape[0]*modified_image.shape[1], 3)\n",
    "    \n",
    "    clf = KMeans(n_clusters = number_of_colors)\n",
    "    labels = clf.fit_predict(modified_image)\n",
    "    \n",
    "    counts = Counter(labels)\n",
    "    # sort to ensure correct color percentage\n",
    "    counts = dict(sorted(counts.items()))\n",
    "    \n",
    "    center_colors = clf.cluster_centers_\n",
    "    # We get ordered colors by iterating through the keys\n",
    "    ordered_colors = [center_colors[i] for i in counts.keys()]\n",
    "    hex_colors = [RGB2HEX(ordered_colors[i]) for i in counts.keys()]\n",
    "    rgb_colors = [ordered_colors[i] for i in counts.keys()]\n",
    "\n",
    "    if (show_chart):\n",
    "        plt.figure(figsize = (8, 6))\n",
    "        plt.pie(counts.values(), labels = hex_colors, colors = hex_colors)\n",
    "    \n",
    "    return rgb_colors"
   ]
  },
  {
   "cell_type": "code",
   "execution_count": null,
   "metadata": {
    "colab": {
     "base_uri": "https://localhost:8080/",
     "height": 500
    },
    "id": "wT0-Gvk5hHRy",
    "outputId": "066881f3-43e4-488f-b623-6eafedb1a746"
   },
   "outputs": [],
   "source": [
    "get_colors(get_image(imgName), 8, True)"
   ]
  },
  {
   "cell_type": "code",
   "execution_count": null,
   "metadata": {
    "id": "nr3EICTPhK3G"
   },
   "outputs": [],
   "source": []
  },
  {
   "cell_type": "code",
   "execution_count": null,
   "metadata": {},
   "outputs": [],
   "source": []
  }
 ],
 "metadata": {
  "colab": {
   "collapsed_sections": [],
   "name": "ColorDetect.ipynb",
   "provenance": [],
   "toc_visible": true
  },
  "kernelspec": {
   "display_name": "Python 3",
   "language": "python",
   "name": "python3"
  },
  "language_info": {
   "codemirror_mode": {
    "name": "ipython",
    "version": 3
   },
   "file_extension": ".py",
   "mimetype": "text/x-python",
   "name": "python",
   "nbconvert_exporter": "python",
   "pygments_lexer": "ipython3",
   "version": "3.8.5"
  }
 },
 "nbformat": 4,
 "nbformat_minor": 1
}
